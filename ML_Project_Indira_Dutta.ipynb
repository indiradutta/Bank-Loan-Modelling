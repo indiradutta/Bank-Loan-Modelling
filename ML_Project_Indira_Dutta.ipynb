{
  "nbformat": 4,
  "nbformat_minor": 0,
  "metadata": {
    "colab": {
      "name": "ML Project-Indira Dutta.ipynb",
      "provenance": [],
      "collapsed_sections": []
    },
    "kernelspec": {
      "name": "python3",
      "display_name": "Python 3"
    }
  },
  "cells": [
    {
      "cell_type": "markdown",
      "metadata": {
        "id": "DoVOvP9xgROp",
        "colab_type": "text"
      },
      "source": [
        "**1.\n",
        " IMPORTING THE REQUIRED LIBRARIES FOR EDA**"
      ]
    },
    {
      "cell_type": "code",
      "metadata": {
        "id": "R1QslSZXgiAG",
        "colab_type": "code",
        "colab": {}
      },
      "source": [
        "import pandas as pd\n",
        "import numpy as np\n",
        "import seaborn as sns\n",
        "import matplotlib.pyplot as plt\n",
        "import scipy.stats as stats\n",
        "%matplotlib inline"
      ],
      "execution_count": 61,
      "outputs": []
    },
    {
      "cell_type": "markdown",
      "metadata": {
        "id": "lORrmSv6iBib",
        "colab_type": "text"
      },
      "source": [
        "**1.1 LOADING THE DATA INTO THE** **DATAFRAME**"
      ]
    },
    {
      "cell_type": "code",
      "metadata": {
        "id": "m6nuLGXAiL14",
        "colab_type": "code",
        "colab": {
          "resources": {
            "http://localhost:8080/nbextensions/google.colab/files.js": {
              "data": "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",
              "ok": true,
              "headers": [
                [
                  "content-type",
                  "application/javascript"
                ]
              ],
              "status": 200,
              "status_text": ""
            }
          },
          "base_uri": "https://localhost:8080/",
          "height": 73
        },
        "outputId": "a2d20b12-d750-454a-ee69-74967a3f6ade"
      },
      "source": [
        "from google.colab import files\n",
        "uploaded=files.upload()"
      ],
      "execution_count": 62,
      "outputs": [
        {
          "output_type": "display_data",
          "data": {
            "text/html": [
              "\n",
              "     <input type=\"file\" id=\"files-8a580424-7bbf-440b-b0bc-db70f04f6658\" name=\"files[]\" multiple disabled\n",
              "        style=\"border:none\" />\n",
              "     <output id=\"result-8a580424-7bbf-440b-b0bc-db70f04f6658\">\n",
              "      Upload widget is only available when the cell has been executed in the\n",
              "      current browser session. Please rerun this cell to enable.\n",
              "      </output>\n",
              "      <script src=\"/nbextensions/google.colab/files.js\"></script> "
            ],
            "text/plain": [
              "<IPython.core.display.HTML object>"
            ]
          },
          "metadata": {
            "tags": []
          }
        },
        {
          "output_type": "stream",
          "text": [
            "Saving data.csv to data.csv\n"
          ],
          "name": "stdout"
        }
      ]
    },
    {
      "cell_type": "code",
      "metadata": {
        "id": "WDug-E7Hpx-4",
        "colab_type": "code",
        "colab": {
          "base_uri": "https://localhost:8080/",
          "height": 195
        },
        "outputId": "78cb1857-2157-4cec-f6d0-8f438fc54255"
      },
      "source": [
        "import io\n",
        "df=pd.read_csv(io.BytesIO(uploaded[\"data.csv\"]))\n",
        "df.head(5)"
      ],
      "execution_count": 63,
      "outputs": [
        {
          "output_type": "execute_result",
          "data": {
            "text/html": [
              "<div>\n",
              "<style scoped>\n",
              "    .dataframe tbody tr th:only-of-type {\n",
              "        vertical-align: middle;\n",
              "    }\n",
              "\n",
              "    .dataframe tbody tr th {\n",
              "        vertical-align: top;\n",
              "    }\n",
              "\n",
              "    .dataframe thead th {\n",
              "        text-align: right;\n",
              "    }\n",
              "</style>\n",
              "<table border=\"1\" class=\"dataframe\">\n",
              "  <thead>\n",
              "    <tr style=\"text-align: right;\">\n",
              "      <th></th>\n",
              "      <th>ID</th>\n",
              "      <th>Age</th>\n",
              "      <th>Experience</th>\n",
              "      <th>Income</th>\n",
              "      <th>ZIP Code</th>\n",
              "      <th>Family</th>\n",
              "      <th>CCAvg</th>\n",
              "      <th>Education</th>\n",
              "      <th>Mortgage</th>\n",
              "      <th>Personal Loan</th>\n",
              "      <th>Securities Account</th>\n",
              "      <th>CD Account</th>\n",
              "      <th>Online</th>\n",
              "      <th>CreditCard</th>\n",
              "    </tr>\n",
              "  </thead>\n",
              "  <tbody>\n",
              "    <tr>\n",
              "      <th>0</th>\n",
              "      <td>1</td>\n",
              "      <td>25</td>\n",
              "      <td>1</td>\n",
              "      <td>49</td>\n",
              "      <td>91107</td>\n",
              "      <td>4</td>\n",
              "      <td>1.6</td>\n",
              "      <td>1</td>\n",
              "      <td>0</td>\n",
              "      <td>0</td>\n",
              "      <td>1</td>\n",
              "      <td>0</td>\n",
              "      <td>0</td>\n",
              "      <td>0</td>\n",
              "    </tr>\n",
              "    <tr>\n",
              "      <th>1</th>\n",
              "      <td>2</td>\n",
              "      <td>45</td>\n",
              "      <td>19</td>\n",
              "      <td>34</td>\n",
              "      <td>90089</td>\n",
              "      <td>3</td>\n",
              "      <td>1.5</td>\n",
              "      <td>1</td>\n",
              "      <td>0</td>\n",
              "      <td>0</td>\n",
              "      <td>1</td>\n",
              "      <td>0</td>\n",
              "      <td>0</td>\n",
              "      <td>0</td>\n",
              "    </tr>\n",
              "    <tr>\n",
              "      <th>2</th>\n",
              "      <td>3</td>\n",
              "      <td>39</td>\n",
              "      <td>15</td>\n",
              "      <td>11</td>\n",
              "      <td>94720</td>\n",
              "      <td>1</td>\n",
              "      <td>1.0</td>\n",
              "      <td>1</td>\n",
              "      <td>0</td>\n",
              "      <td>0</td>\n",
              "      <td>0</td>\n",
              "      <td>0</td>\n",
              "      <td>0</td>\n",
              "      <td>0</td>\n",
              "    </tr>\n",
              "    <tr>\n",
              "      <th>3</th>\n",
              "      <td>4</td>\n",
              "      <td>35</td>\n",
              "      <td>9</td>\n",
              "      <td>100</td>\n",
              "      <td>94112</td>\n",
              "      <td>1</td>\n",
              "      <td>2.7</td>\n",
              "      <td>2</td>\n",
              "      <td>0</td>\n",
              "      <td>0</td>\n",
              "      <td>0</td>\n",
              "      <td>0</td>\n",
              "      <td>0</td>\n",
              "      <td>0</td>\n",
              "    </tr>\n",
              "    <tr>\n",
              "      <th>4</th>\n",
              "      <td>5</td>\n",
              "      <td>35</td>\n",
              "      <td>8</td>\n",
              "      <td>45</td>\n",
              "      <td>91330</td>\n",
              "      <td>4</td>\n",
              "      <td>1.0</td>\n",
              "      <td>2</td>\n",
              "      <td>0</td>\n",
              "      <td>0</td>\n",
              "      <td>0</td>\n",
              "      <td>0</td>\n",
              "      <td>0</td>\n",
              "      <td>1</td>\n",
              "    </tr>\n",
              "  </tbody>\n",
              "</table>\n",
              "</div>"
            ],
            "text/plain": [
              "   ID  Age  Experience  ...  CD Account  Online  CreditCard\n",
              "0   1   25           1  ...           0       0           0\n",
              "1   2   45          19  ...           0       0           0\n",
              "2   3   39          15  ...           0       0           0\n",
              "3   4   35           9  ...           0       0           0\n",
              "4   5   35           8  ...           0       0           1\n",
              "\n",
              "[5 rows x 14 columns]"
            ]
          },
          "metadata": {
            "tags": []
          },
          "execution_count": 63
        }
      ]
    },
    {
      "cell_type": "markdown",
      "metadata": {
        "id": "VjSynl57tigP",
        "colab_type": "text"
      },
      "source": [
        "**1.2 CHECKING THE TYPES OF DATA AND ITS STATISTICS**"
      ]
    },
    {
      "cell_type": "code",
      "metadata": {
        "id": "MNWxd8x_tufo",
        "colab_type": "code",
        "colab": {
          "base_uri": "https://localhost:8080/",
          "height": 252
        },
        "outputId": "aa0c435d-55ac-4dd7-8814-498f88109bf5"
      },
      "source": [
        "df.info"
      ],
      "execution_count": 64,
      "outputs": [
        {
          "output_type": "execute_result",
          "data": {
            "text/plain": [
              "<bound method DataFrame.info of         ID  Age  Experience  ...  CD Account  Online  CreditCard\n",
              "0        1   25           1  ...           0       0           0\n",
              "1        2   45          19  ...           0       0           0\n",
              "2        3   39          15  ...           0       0           0\n",
              "3        4   35           9  ...           0       0           0\n",
              "4        5   35           8  ...           0       0           1\n",
              "...    ...  ...         ...  ...         ...     ...         ...\n",
              "4995  4996   29           3  ...           0       1           0\n",
              "4996  4997   30           4  ...           0       1           0\n",
              "4997  4998   63          39  ...           0       0           0\n",
              "4998  4999   65          40  ...           0       1           0\n",
              "4999  5000   28           4  ...           0       1           1\n",
              "\n",
              "[5000 rows x 14 columns]>"
            ]
          },
          "metadata": {
            "tags": []
          },
          "execution_count": 64
        }
      ]
    },
    {
      "cell_type": "code",
      "metadata": {
        "id": "tZUtKLVJt36k",
        "colab_type": "code",
        "colab": {
          "base_uri": "https://localhost:8080/",
          "height": 269
        },
        "outputId": "56d8b9bd-8a4a-42bc-cf7d-de95e40a90ce"
      },
      "source": [
        "df.dtypes"
      ],
      "execution_count": 65,
      "outputs": [
        {
          "output_type": "execute_result",
          "data": {
            "text/plain": [
              "ID                      int64\n",
              "Age                     int64\n",
              "Experience              int64\n",
              "Income                  int64\n",
              "ZIP Code                int64\n",
              "Family                  int64\n",
              "CCAvg                 float64\n",
              "Education               int64\n",
              "Mortgage                int64\n",
              "Personal Loan           int64\n",
              "Securities Account      int64\n",
              "CD Account              int64\n",
              "Online                  int64\n",
              "CreditCard              int64\n",
              "dtype: object"
            ]
          },
          "metadata": {
            "tags": []
          },
          "execution_count": 65
        }
      ]
    },
    {
      "cell_type": "code",
      "metadata": {
        "id": "KgGLcAHIuIAV",
        "colab_type": "code",
        "colab": {
          "base_uri": "https://localhost:8080/",
          "height": 34
        },
        "outputId": "35f9c5a3-aecf-44e4-92df-9d3a63041dfe"
      },
      "source": [
        "df.shape"
      ],
      "execution_count": 66,
      "outputs": [
        {
          "output_type": "execute_result",
          "data": {
            "text/plain": [
              "(5000, 14)"
            ]
          },
          "metadata": {
            "tags": []
          },
          "execution_count": 66
        }
      ]
    },
    {
      "cell_type": "code",
      "metadata": {
        "id": "GueJIT5buZDt",
        "colab_type": "code",
        "colab": {
          "base_uri": "https://localhost:8080/",
          "height": 34
        },
        "outputId": "6f14cccd-b63c-4614-e5c2-8d54863537e0"
      },
      "source": [
        "df.isnull().values.any()"
      ],
      "execution_count": 67,
      "outputs": [
        {
          "output_type": "execute_result",
          "data": {
            "text/plain": [
              "False"
            ]
          },
          "metadata": {
            "tags": []
          },
          "execution_count": 67
        }
      ]
    },
    {
      "cell_type": "code",
      "metadata": {
        "id": "79OP-p1nu9Eg",
        "colab_type": "code",
        "colab": {
          "base_uri": "https://localhost:8080/",
          "height": 321
        },
        "outputId": "22e90db1-8028-4e00-e96c-7e71c5177461"
      },
      "source": [
        "df[['ID','Age','Experience','Income','ZIP Code','Family','CCAvg','Education','Mortgage','Personal Loan','Securities Account','CD Account','Online','CreditCard',]].describe()"
      ],
      "execution_count": 68,
      "outputs": [
        {
          "output_type": "execute_result",
          "data": {
            "text/html": [
              "<div>\n",
              "<style scoped>\n",
              "    .dataframe tbody tr th:only-of-type {\n",
              "        vertical-align: middle;\n",
              "    }\n",
              "\n",
              "    .dataframe tbody tr th {\n",
              "        vertical-align: top;\n",
              "    }\n",
              "\n",
              "    .dataframe thead th {\n",
              "        text-align: right;\n",
              "    }\n",
              "</style>\n",
              "<table border=\"1\" class=\"dataframe\">\n",
              "  <thead>\n",
              "    <tr style=\"text-align: right;\">\n",
              "      <th></th>\n",
              "      <th>ID</th>\n",
              "      <th>Age</th>\n",
              "      <th>Experience</th>\n",
              "      <th>Income</th>\n",
              "      <th>ZIP Code</th>\n",
              "      <th>Family</th>\n",
              "      <th>CCAvg</th>\n",
              "      <th>Education</th>\n",
              "      <th>Mortgage</th>\n",
              "      <th>Personal Loan</th>\n",
              "      <th>Securities Account</th>\n",
              "      <th>CD Account</th>\n",
              "      <th>Online</th>\n",
              "      <th>CreditCard</th>\n",
              "    </tr>\n",
              "  </thead>\n",
              "  <tbody>\n",
              "    <tr>\n",
              "      <th>count</th>\n",
              "      <td>5000.000000</td>\n",
              "      <td>5000.000000</td>\n",
              "      <td>5000.000000</td>\n",
              "      <td>5000.000000</td>\n",
              "      <td>5000.000000</td>\n",
              "      <td>5000.000000</td>\n",
              "      <td>5000.000000</td>\n",
              "      <td>5000.000000</td>\n",
              "      <td>5000.000000</td>\n",
              "      <td>5000.000000</td>\n",
              "      <td>5000.000000</td>\n",
              "      <td>5000.00000</td>\n",
              "      <td>5000.000000</td>\n",
              "      <td>5000.000000</td>\n",
              "    </tr>\n",
              "    <tr>\n",
              "      <th>mean</th>\n",
              "      <td>2500.500000</td>\n",
              "      <td>45.338400</td>\n",
              "      <td>20.104600</td>\n",
              "      <td>73.774200</td>\n",
              "      <td>93152.503000</td>\n",
              "      <td>2.396400</td>\n",
              "      <td>1.937938</td>\n",
              "      <td>1.881000</td>\n",
              "      <td>56.498800</td>\n",
              "      <td>0.096000</td>\n",
              "      <td>0.104400</td>\n",
              "      <td>0.06040</td>\n",
              "      <td>0.596800</td>\n",
              "      <td>0.294000</td>\n",
              "    </tr>\n",
              "    <tr>\n",
              "      <th>std</th>\n",
              "      <td>1443.520003</td>\n",
              "      <td>11.463166</td>\n",
              "      <td>11.467954</td>\n",
              "      <td>46.033729</td>\n",
              "      <td>2121.852197</td>\n",
              "      <td>1.147663</td>\n",
              "      <td>1.747659</td>\n",
              "      <td>0.839869</td>\n",
              "      <td>101.713802</td>\n",
              "      <td>0.294621</td>\n",
              "      <td>0.305809</td>\n",
              "      <td>0.23825</td>\n",
              "      <td>0.490589</td>\n",
              "      <td>0.455637</td>\n",
              "    </tr>\n",
              "    <tr>\n",
              "      <th>min</th>\n",
              "      <td>1.000000</td>\n",
              "      <td>23.000000</td>\n",
              "      <td>-3.000000</td>\n",
              "      <td>8.000000</td>\n",
              "      <td>9307.000000</td>\n",
              "      <td>1.000000</td>\n",
              "      <td>0.000000</td>\n",
              "      <td>1.000000</td>\n",
              "      <td>0.000000</td>\n",
              "      <td>0.000000</td>\n",
              "      <td>0.000000</td>\n",
              "      <td>0.00000</td>\n",
              "      <td>0.000000</td>\n",
              "      <td>0.000000</td>\n",
              "    </tr>\n",
              "    <tr>\n",
              "      <th>25%</th>\n",
              "      <td>1250.750000</td>\n",
              "      <td>35.000000</td>\n",
              "      <td>10.000000</td>\n",
              "      <td>39.000000</td>\n",
              "      <td>91911.000000</td>\n",
              "      <td>1.000000</td>\n",
              "      <td>0.700000</td>\n",
              "      <td>1.000000</td>\n",
              "      <td>0.000000</td>\n",
              "      <td>0.000000</td>\n",
              "      <td>0.000000</td>\n",
              "      <td>0.00000</td>\n",
              "      <td>0.000000</td>\n",
              "      <td>0.000000</td>\n",
              "    </tr>\n",
              "    <tr>\n",
              "      <th>50%</th>\n",
              "      <td>2500.500000</td>\n",
              "      <td>45.000000</td>\n",
              "      <td>20.000000</td>\n",
              "      <td>64.000000</td>\n",
              "      <td>93437.000000</td>\n",
              "      <td>2.000000</td>\n",
              "      <td>1.500000</td>\n",
              "      <td>2.000000</td>\n",
              "      <td>0.000000</td>\n",
              "      <td>0.000000</td>\n",
              "      <td>0.000000</td>\n",
              "      <td>0.00000</td>\n",
              "      <td>1.000000</td>\n",
              "      <td>0.000000</td>\n",
              "    </tr>\n",
              "    <tr>\n",
              "      <th>75%</th>\n",
              "      <td>3750.250000</td>\n",
              "      <td>55.000000</td>\n",
              "      <td>30.000000</td>\n",
              "      <td>98.000000</td>\n",
              "      <td>94608.000000</td>\n",
              "      <td>3.000000</td>\n",
              "      <td>2.500000</td>\n",
              "      <td>3.000000</td>\n",
              "      <td>101.000000</td>\n",
              "      <td>0.000000</td>\n",
              "      <td>0.000000</td>\n",
              "      <td>0.00000</td>\n",
              "      <td>1.000000</td>\n",
              "      <td>1.000000</td>\n",
              "    </tr>\n",
              "    <tr>\n",
              "      <th>max</th>\n",
              "      <td>5000.000000</td>\n",
              "      <td>67.000000</td>\n",
              "      <td>43.000000</td>\n",
              "      <td>224.000000</td>\n",
              "      <td>96651.000000</td>\n",
              "      <td>4.000000</td>\n",
              "      <td>10.000000</td>\n",
              "      <td>3.000000</td>\n",
              "      <td>635.000000</td>\n",
              "      <td>1.000000</td>\n",
              "      <td>1.000000</td>\n",
              "      <td>1.00000</td>\n",
              "      <td>1.000000</td>\n",
              "      <td>1.000000</td>\n",
              "    </tr>\n",
              "  </tbody>\n",
              "</table>\n",
              "</div>"
            ],
            "text/plain": [
              "                ID          Age  ...       Online   CreditCard\n",
              "count  5000.000000  5000.000000  ...  5000.000000  5000.000000\n",
              "mean   2500.500000    45.338400  ...     0.596800     0.294000\n",
              "std    1443.520003    11.463166  ...     0.490589     0.455637\n",
              "min       1.000000    23.000000  ...     0.000000     0.000000\n",
              "25%    1250.750000    35.000000  ...     0.000000     0.000000\n",
              "50%    2500.500000    45.000000  ...     1.000000     0.000000\n",
              "75%    3750.250000    55.000000  ...     1.000000     1.000000\n",
              "max    5000.000000    67.000000  ...     1.000000     1.000000\n",
              "\n",
              "[8 rows x 14 columns]"
            ]
          },
          "metadata": {
            "tags": []
          },
          "execution_count": 68
        }
      ]
    },
    {
      "cell_type": "markdown",
      "metadata": {
        "id": "QUQeybcKpDaK",
        "colab_type": "text"
      },
      "source": [
        "**2. Dropping Irrelevant Columns**"
      ]
    },
    {
      "cell_type": "code",
      "metadata": {
        "id": "KjEDAJLxpQ0Y",
        "colab_type": "code",
        "colab": {
          "base_uri": "https://localhost:8080/",
          "height": 218
        },
        "outputId": "1f5abeb6-ef7f-4ca2-837b-15bcb91160b5"
      },
      "source": [
        "df.Experience"
      ],
      "execution_count": 69,
      "outputs": [
        {
          "output_type": "execute_result",
          "data": {
            "text/plain": [
              "0        1\n",
              "1       19\n",
              "2       15\n",
              "3        9\n",
              "4        8\n",
              "        ..\n",
              "4995     3\n",
              "4996     4\n",
              "4997    39\n",
              "4998    40\n",
              "4999     4\n",
              "Name: Experience, Length: 5000, dtype: int64"
            ]
          },
          "metadata": {
            "tags": []
          },
          "execution_count": 69
        }
      ]
    },
    {
      "cell_type": "code",
      "metadata": {
        "id": "Xnoq0AVHphcH",
        "colab_type": "code",
        "colab": {
          "base_uri": "https://localhost:8080/",
          "height": 34
        },
        "outputId": "fa5f610f-bd0c-4582-9b35-945510b38c1d"
      },
      "source": [
        "experience=df[\"Experience\"]\n",
        "age=df[\"Age\"]\n",
        "correlation=age.corr(experience)\n",
        "correlation"
      ],
      "execution_count": 70,
      "outputs": [
        {
          "output_type": "execute_result",
          "data": {
            "text/plain": [
              "0.9942148569683321"
            ]
          },
          "metadata": {
            "tags": []
          },
          "execution_count": 70
        }
      ]
    },
    {
      "cell_type": "code",
      "metadata": {
        "id": "wSGVMsD9p5VQ",
        "colab_type": "code",
        "colab": {
          "base_uri": "https://localhost:8080/",
          "height": 195
        },
        "outputId": "6b2edf4c-317f-4252-ee8e-c0e6a14846e0"
      },
      "source": [
        "df=df.drop(['ID','Experience'], axis=1)\n",
        "df.head(5)"
      ],
      "execution_count": 71,
      "outputs": [
        {
          "output_type": "execute_result",
          "data": {
            "text/html": [
              "<div>\n",
              "<style scoped>\n",
              "    .dataframe tbody tr th:only-of-type {\n",
              "        vertical-align: middle;\n",
              "    }\n",
              "\n",
              "    .dataframe tbody tr th {\n",
              "        vertical-align: top;\n",
              "    }\n",
              "\n",
              "    .dataframe thead th {\n",
              "        text-align: right;\n",
              "    }\n",
              "</style>\n",
              "<table border=\"1\" class=\"dataframe\">\n",
              "  <thead>\n",
              "    <tr style=\"text-align: right;\">\n",
              "      <th></th>\n",
              "      <th>Age</th>\n",
              "      <th>Income</th>\n",
              "      <th>ZIP Code</th>\n",
              "      <th>Family</th>\n",
              "      <th>CCAvg</th>\n",
              "      <th>Education</th>\n",
              "      <th>Mortgage</th>\n",
              "      <th>Personal Loan</th>\n",
              "      <th>Securities Account</th>\n",
              "      <th>CD Account</th>\n",
              "      <th>Online</th>\n",
              "      <th>CreditCard</th>\n",
              "    </tr>\n",
              "  </thead>\n",
              "  <tbody>\n",
              "    <tr>\n",
              "      <th>0</th>\n",
              "      <td>25</td>\n",
              "      <td>49</td>\n",
              "      <td>91107</td>\n",
              "      <td>4</td>\n",
              "      <td>1.6</td>\n",
              "      <td>1</td>\n",
              "      <td>0</td>\n",
              "      <td>0</td>\n",
              "      <td>1</td>\n",
              "      <td>0</td>\n",
              "      <td>0</td>\n",
              "      <td>0</td>\n",
              "    </tr>\n",
              "    <tr>\n",
              "      <th>1</th>\n",
              "      <td>45</td>\n",
              "      <td>34</td>\n",
              "      <td>90089</td>\n",
              "      <td>3</td>\n",
              "      <td>1.5</td>\n",
              "      <td>1</td>\n",
              "      <td>0</td>\n",
              "      <td>0</td>\n",
              "      <td>1</td>\n",
              "      <td>0</td>\n",
              "      <td>0</td>\n",
              "      <td>0</td>\n",
              "    </tr>\n",
              "    <tr>\n",
              "      <th>2</th>\n",
              "      <td>39</td>\n",
              "      <td>11</td>\n",
              "      <td>94720</td>\n",
              "      <td>1</td>\n",
              "      <td>1.0</td>\n",
              "      <td>1</td>\n",
              "      <td>0</td>\n",
              "      <td>0</td>\n",
              "      <td>0</td>\n",
              "      <td>0</td>\n",
              "      <td>0</td>\n",
              "      <td>0</td>\n",
              "    </tr>\n",
              "    <tr>\n",
              "      <th>3</th>\n",
              "      <td>35</td>\n",
              "      <td>100</td>\n",
              "      <td>94112</td>\n",
              "      <td>1</td>\n",
              "      <td>2.7</td>\n",
              "      <td>2</td>\n",
              "      <td>0</td>\n",
              "      <td>0</td>\n",
              "      <td>0</td>\n",
              "      <td>0</td>\n",
              "      <td>0</td>\n",
              "      <td>0</td>\n",
              "    </tr>\n",
              "    <tr>\n",
              "      <th>4</th>\n",
              "      <td>35</td>\n",
              "      <td>45</td>\n",
              "      <td>91330</td>\n",
              "      <td>4</td>\n",
              "      <td>1.0</td>\n",
              "      <td>2</td>\n",
              "      <td>0</td>\n",
              "      <td>0</td>\n",
              "      <td>0</td>\n",
              "      <td>0</td>\n",
              "      <td>0</td>\n",
              "      <td>1</td>\n",
              "    </tr>\n",
              "  </tbody>\n",
              "</table>\n",
              "</div>"
            ],
            "text/plain": [
              "   Age  Income  ZIP Code  ...  CD Account  Online  CreditCard\n",
              "0   25      49     91107  ...           0       0           0\n",
              "1   45      34     90089  ...           0       0           0\n",
              "2   39      11     94720  ...           0       0           0\n",
              "3   35     100     94112  ...           0       0           0\n",
              "4   35      45     91330  ...           0       0           1\n",
              "\n",
              "[5 rows x 12 columns]"
            ]
          },
          "metadata": {
            "tags": []
          },
          "execution_count": 71
        }
      ]
    },
    {
      "cell_type": "code",
      "metadata": {
        "id": "vVT5Haf2tMOa",
        "colab_type": "code",
        "colab": {
          "base_uri": "https://localhost:8080/",
          "height": 67
        },
        "outputId": "1cad2acc-0021-4fb5-80bb-03705d9bed50"
      },
      "source": [
        "duplicate=df[df.duplicated()]\n",
        "print(\"No of duplicate rows : \",duplicate)"
      ],
      "execution_count": 72,
      "outputs": [
        {
          "output_type": "stream",
          "text": [
            "No of duplicate rows :  Empty DataFrame\n",
            "Columns: [Age, Income, ZIP Code, Family, CCAvg, Education, Mortgage, Personal Loan, Securities Account, CD Account, Online, CreditCard]\n",
            "Index: []\n"
          ],
          "name": "stdout"
        }
      ]
    },
    {
      "cell_type": "markdown",
      "metadata": {
        "id": "EGquVUXft7iP",
        "colab_type": "text"
      },
      "source": [
        "**3. EDA : Studying the Data Distribution**"
      ]
    },
    {
      "cell_type": "markdown",
      "metadata": {
        "id": "6zf2ORGiwAc9",
        "colab_type": "text"
      },
      "source": [
        "**3.1 No. of unique values in each column**"
      ]
    },
    {
      "cell_type": "code",
      "metadata": {
        "id": "9lpnfmk7ugzU",
        "colab_type": "code",
        "colab": {
          "base_uri": "https://localhost:8080/",
          "height": 235
        },
        "outputId": "033d5836-df91-4fbd-97bb-b8f9cba73247"
      },
      "source": [
        "unique_no = df.nunique(axis = 0, dropna = True)\n",
        "unique_no"
      ],
      "execution_count": 73,
      "outputs": [
        {
          "output_type": "execute_result",
          "data": {
            "text/plain": [
              "Age                    45\n",
              "Income                162\n",
              "ZIP Code              467\n",
              "Family                  4\n",
              "CCAvg                 108\n",
              "Education               3\n",
              "Mortgage              347\n",
              "Personal Loan           2\n",
              "Securities Account      2\n",
              "CD Account              2\n",
              "Online                  2\n",
              "CreditCard              2\n",
              "dtype: int64"
            ]
          },
          "metadata": {
            "tags": []
          },
          "execution_count": 73
        }
      ]
    },
    {
      "cell_type": "markdown",
      "metadata": {
        "id": "4LBfGfEcwJgu",
        "colab_type": "text"
      },
      "source": [
        "**3.2 No. of people with zero mortage**"
      ]
    },
    {
      "cell_type": "code",
      "metadata": {
        "id": "pp5qhbnIwTT1",
        "colab_type": "code",
        "colab": {
          "base_uri": "https://localhost:8080/",
          "height": 34
        },
        "outputId": "60dae5f2-ae0c-4122-a088-12847d3bbd04"
      },
      "source": [
        "zero_mortgage=df.Mortgage[df.Mortgage == 0].count()\n",
        "print(\"People with zero mortgage:\",zero_mortgage)"
      ],
      "execution_count": 74,
      "outputs": [
        {
          "output_type": "stream",
          "text": [
            "People with zero mortgage: 3462\n"
          ],
          "name": "stdout"
        }
      ]
    },
    {
      "cell_type": "markdown",
      "metadata": {
        "id": "dIx-DvXvzY31",
        "colab_type": "text"
      },
      "source": [
        "**3.3 No. of people with zero credit card spending per month**"
      ]
    },
    {
      "cell_type": "code",
      "metadata": {
        "id": "56jUU9guzlwP",
        "colab_type": "code",
        "colab": {
          "base_uri": "https://localhost:8080/",
          "height": 34
        },
        "outputId": "8f93a723-ef29-490a-ed82-9db4b1f241f9"
      },
      "source": [
        "zero_cc_spend=df.CreditCard[df.CreditCard == 0].count()\n",
        "print(\"People with zero credit card spending per month:\" , zero_cc_spend)"
      ],
      "execution_count": 75,
      "outputs": [
        {
          "output_type": "stream",
          "text": [
            "People with zero credit card spending per month: 3530\n"
          ],
          "name": "stdout"
        }
      ]
    },
    {
      "cell_type": "markdown",
      "metadata": {
        "id": "qFot3JUD0GnK",
        "colab_type": "text"
      },
      "source": [
        "**3.4 Value counts of all categorical columns.**"
      ]
    },
    {
      "cell_type": "code",
      "metadata": {
        "id": "yX9pIxSs0M-C",
        "colab_type": "code",
        "colab": {
          "base_uri": "https://localhost:8080/",
          "height": 353
        },
        "outputId": "93a9170d-0132-406b-fa12-ee01bfe70f31"
      },
      "source": [
        "for x in df.columns:\n",
        "  if df[x].nunique(dropna = True) == 2:\n",
        "    print(x,\": \")\n",
        "    print(df[x].value_counts())"
      ],
      "execution_count": 76,
      "outputs": [
        {
          "output_type": "stream",
          "text": [
            "Personal Loan : \n",
            "0    4520\n",
            "1     480\n",
            "Name: Personal Loan, dtype: int64\n",
            "Securities Account : \n",
            "0    4478\n",
            "1     522\n",
            "Name: Securities Account, dtype: int64\n",
            "CD Account : \n",
            "0    4698\n",
            "1     302\n",
            "Name: CD Account, dtype: int64\n",
            "Online : \n",
            "1    2984\n",
            "0    2016\n",
            "Name: Online, dtype: int64\n",
            "CreditCard : \n",
            "0    3530\n",
            "1    1470\n",
            "Name: CreditCard, dtype: int64\n"
          ],
          "name": "stdout"
        }
      ]
    },
    {
      "cell_type": "markdown",
      "metadata": {
        "id": "tHaa6-7B7QBJ",
        "colab_type": "text"
      },
      "source": [
        "**3.5 Univariate and Bivariate analysis**"
      ]
    },
    {
      "cell_type": "code",
      "metadata": {
        "id": "m7MU-gaI7XkU",
        "colab_type": "code",
        "colab": {
          "base_uri": "https://localhost:8080/",
          "height": 296
        },
        "outputId": "9ac604af-ee3c-4553-8e86-0fc2fbd15b9c"
      },
      "source": [
        "sns.boxplot(x=df[\"Income\"])"
      ],
      "execution_count": 77,
      "outputs": [
        {
          "output_type": "execute_result",
          "data": {
            "text/plain": [
              "<matplotlib.axes._subplots.AxesSubplot at 0x7f98cfddf470>"
            ]
          },
          "metadata": {
            "tags": []
          },
          "execution_count": 77
        },
        {
          "output_type": "display_data",
          "data": {
            "image/png": "[encoded data removed]",
            "text/plain": [
              "<Figure size 432x288 with 1 Axes>"
            ]
          },
          "metadata": {
            "tags": [],
            "needs_background": "light"
          }
        }
      ]
    },
    {
      "cell_type": "code",
      "metadata": {
        "id": "RDNUTaNywrC5",
        "colab_type": "code",
        "colab": {
          "base_uri": "https://localhost:8080/",
          "height": 296
        },
        "outputId": "31ca0e09-606c-4b4c-c5a8-cb1402ea8338"
      },
      "source": [
        "sns.boxplot(x=df[\"CCAvg\"])"
      ],
      "execution_count": 78,
      "outputs": [
        {
          "output_type": "execute_result",
          "data": {
            "text/plain": [
              "<matplotlib.axes._subplots.AxesSubplot at 0x7f98cfd174a8>"
            ]
          },
          "metadata": {
            "tags": []
          },
          "execution_count": 78
        },
        {
          "output_type": "display_data",
          "data": {
            "image/png": "[encoded data removed]",
            "text/plain": [
              "<Figure size 432x288 with 1 Axes>"
            ]
          },
          "metadata": {
            "tags": [],
            "needs_background": "light"
          }
        }
      ]
    },
    {
      "cell_type": "code",
      "metadata": {
        "id": "gOc8868ww3go",
        "colab_type": "code",
        "colab": {
          "base_uri": "https://localhost:8080/",
          "height": 296
        },
        "outputId": "a70675a6-9555-4e3a-ebc8-18f19cae24b6"
      },
      "source": [
        "sns.boxplot(x=df[\"Mortgage\"])"
      ],
      "execution_count": 79,
      "outputs": [
        {
          "output_type": "execute_result",
          "data": {
            "text/plain": [
              "<matplotlib.axes._subplots.AxesSubplot at 0x7f98cfcf6630>"
            ]
          },
          "metadata": {
            "tags": []
          },
          "execution_count": 79
        },
        {
          "output_type": "display_data",
          "data": {
            "image/png": "[encoded data removed]",
            "text/plain": [
              "<Figure size 432x288 with 1 Axes>"
            ]
          },
          "metadata": {
            "tags": [],
            "needs_background": "light"
          }
        }
      ]
    },
    {
      "cell_type": "code",
      "metadata": {
        "id": "UZp4rwLwzRLR",
        "colab_type": "code",
        "colab": {
          "base_uri": "https://localhost:8080/",
          "height": 334
        },
        "outputId": "78f77c2d-6059-4a24-db30-228122552d62"
      },
      "source": [
        "fig, ax = plt.subplots(figsize = (10,5))\n",
        "ax.scatter(df['Age'],df['Income'])\n",
        "ax.set_xlabel('Age')\n",
        "ax.set_ylabel('Income')\n",
        "plt.show()"
      ],
      "execution_count": 80,
      "outputs": [
        {
          "output_type": "display_data",
          "data": {
            "image/png": "[encoded data removed]",
            "text/plain": [
              "<Figure size 720x360 with 1 Axes>"
            ]
          },
          "metadata": {
            "tags": [],
            "needs_background": "light"
          }
        }
      ]
    },
    {
      "cell_type": "code",
      "metadata": {
        "id": "-eZ5NIeF0KFd",
        "colab_type": "code",
        "colab": {
          "base_uri": "https://localhost:8080/",
          "height": 334
        },
        "outputId": "23962cc9-c8c6-465f-eda1-d7e8ef6c86f1"
      },
      "source": [
        "fig, ax = plt.subplots(figsize = (10,5))\n",
        "ax.scatter(df['Age'],df['CCAvg'])\n",
        "ax.set_xlabel('Age')\n",
        "ax.set_ylabel('CCAvg')\n",
        "plt.show()"
      ],
      "execution_count": 81,
      "outputs": [
        {
          "output_type": "display_data",
          "data": {
            "image/png": "[encoded data removed]",
            "text/plain": [
              "<Figure size 720x360 with 1 Axes>"
            ]
          },
          "metadata": {
            "tags": [],
            "needs_background": "light"
          }
        }
      ]
    },
    {
      "cell_type": "code",
      "metadata": {
        "id": "tCdhn9OK0VV_",
        "colab_type": "code",
        "colab": {
          "base_uri": "https://localhost:8080/",
          "height": 334
        },
        "outputId": "a993549a-2193-4d42-c5de-2275ebdc2521"
      },
      "source": [
        "fig, ax = plt.subplots(figsize = (10,5))\n",
        "ax.scatter(df['Age'],df['Mortgage'])\n",
        "ax.set_xlabel('Age')\n",
        "ax.set_ylabel('Mortgage')\n",
        "plt.show()"
      ],
      "execution_count": 82,
      "outputs": [
        {
          "output_type": "display_data",
          "data": {
            "image/png": "[encoded data removed]",
            "text/plain": [
              "<Figure size 720x360 with 1 Axes>"
            ]
          },
          "metadata": {
            "tags": [],
            "needs_background": "light"
          }
        }
      ]
    },
    {
      "cell_type": "code",
      "metadata": {
        "id": "A3gAJt9mcTLD",
        "colab_type": "code",
        "colab": {
          "base_uri": "https://localhost:8080/",
          "height": 334
        },
        "outputId": "1e6f4a15-8533-4a47-aa25-58f2c49ab527"
      },
      "source": [
        "fig, ax = plt.subplots(figsize = (10,5))\n",
        "ax.scatter(df['Age'],df['Personal Loan'])\n",
        "ax.set_xlabel('Age')\n",
        "ax.set_ylabel('Personal Loan')\n",
        "plt.show()"
      ],
      "execution_count": 83,
      "outputs": [
        {
          "output_type": "display_data",
          "data": {
            "image/png": "[encoded data removed]",
            "text/plain": [
              "<Figure size 720x360 with 1 Axes>"
            ]
          },
          "metadata": {
            "tags": [],
            "needs_background": "light"
          }
        }
      ]
    },
    {
      "cell_type": "code",
      "metadata": {
        "id": "etAUcvuHBmAN",
        "colab_type": "code",
        "colab": {
          "base_uri": "https://localhost:8080/",
          "height": 436
        },
        "outputId": "bc64b17c-393b-46fe-de15-1ad88f090fd7"
      },
      "source": [
        "df.corr()"
      ],
      "execution_count": 84,
      "outputs": [
        {
          "output_type": "execute_result",
          "data": {
            "text/html": [
              "<div>\n",
              "<style scoped>\n",
              "    .dataframe tbody tr th:only-of-type {\n",
              "        vertical-align: middle;\n",
              "    }\n",
              "\n",
              "    .dataframe tbody tr th {\n",
              "        vertical-align: top;\n",
              "    }\n",
              "\n",
              "    .dataframe thead th {\n",
              "        text-align: right;\n",
              "    }\n",
              "</style>\n",
              "<table border=\"1\" class=\"dataframe\">\n",
              "  <thead>\n",
              "    <tr style=\"text-align: right;\">\n",
              "      <th></th>\n",
              "      <th>Age</th>\n",
              "      <th>Income</th>\n",
              "      <th>ZIP Code</th>\n",
              "      <th>Family</th>\n",
              "      <th>CCAvg</th>\n",
              "      <th>Education</th>\n",
              "      <th>Mortgage</th>\n",
              "      <th>Personal Loan</th>\n",
              "      <th>Securities Account</th>\n",
              "      <th>CD Account</th>\n",
              "      <th>Online</th>\n",
              "      <th>CreditCard</th>\n",
              "    </tr>\n",
              "  </thead>\n",
              "  <tbody>\n",
              "    <tr>\n",
              "      <th>Age</th>\n",
              "      <td>1.000000</td>\n",
              "      <td>-0.055269</td>\n",
              "      <td>-0.029216</td>\n",
              "      <td>-0.046418</td>\n",
              "      <td>-0.052012</td>\n",
              "      <td>0.041334</td>\n",
              "      <td>-0.012539</td>\n",
              "      <td>-0.007726</td>\n",
              "      <td>-0.000436</td>\n",
              "      <td>0.008043</td>\n",
              "      <td>0.013702</td>\n",
              "      <td>0.007681</td>\n",
              "    </tr>\n",
              "    <tr>\n",
              "      <th>Income</th>\n",
              "      <td>-0.055269</td>\n",
              "      <td>1.000000</td>\n",
              "      <td>-0.016410</td>\n",
              "      <td>-0.157501</td>\n",
              "      <td>0.645984</td>\n",
              "      <td>-0.187524</td>\n",
              "      <td>0.206806</td>\n",
              "      <td>0.502462</td>\n",
              "      <td>-0.002616</td>\n",
              "      <td>0.169738</td>\n",
              "      <td>0.014206</td>\n",
              "      <td>-0.002385</td>\n",
              "    </tr>\n",
              "    <tr>\n",
              "      <th>ZIP Code</th>\n",
              "      <td>-0.029216</td>\n",
              "      <td>-0.016410</td>\n",
              "      <td>1.000000</td>\n",
              "      <td>0.011778</td>\n",
              "      <td>-0.004061</td>\n",
              "      <td>-0.017377</td>\n",
              "      <td>0.007383</td>\n",
              "      <td>0.000107</td>\n",
              "      <td>0.004704</td>\n",
              "      <td>0.019972</td>\n",
              "      <td>0.016990</td>\n",
              "      <td>0.007691</td>\n",
              "    </tr>\n",
              "    <tr>\n",
              "      <th>Family</th>\n",
              "      <td>-0.046418</td>\n",
              "      <td>-0.157501</td>\n",
              "      <td>0.011778</td>\n",
              "      <td>1.000000</td>\n",
              "      <td>-0.109275</td>\n",
              "      <td>0.064929</td>\n",
              "      <td>-0.020445</td>\n",
              "      <td>0.061367</td>\n",
              "      <td>0.019994</td>\n",
              "      <td>0.014110</td>\n",
              "      <td>0.010354</td>\n",
              "      <td>0.011588</td>\n",
              "    </tr>\n",
              "    <tr>\n",
              "      <th>CCAvg</th>\n",
              "      <td>-0.052012</td>\n",
              "      <td>0.645984</td>\n",
              "      <td>-0.004061</td>\n",
              "      <td>-0.109275</td>\n",
              "      <td>1.000000</td>\n",
              "      <td>-0.136124</td>\n",
              "      <td>0.109905</td>\n",
              "      <td>0.366889</td>\n",
              "      <td>0.015086</td>\n",
              "      <td>0.136534</td>\n",
              "      <td>-0.003611</td>\n",
              "      <td>-0.006689</td>\n",
              "    </tr>\n",
              "    <tr>\n",
              "      <th>Education</th>\n",
              "      <td>0.041334</td>\n",
              "      <td>-0.187524</td>\n",
              "      <td>-0.017377</td>\n",
              "      <td>0.064929</td>\n",
              "      <td>-0.136124</td>\n",
              "      <td>1.000000</td>\n",
              "      <td>-0.033327</td>\n",
              "      <td>0.136722</td>\n",
              "      <td>-0.010812</td>\n",
              "      <td>0.013934</td>\n",
              "      <td>-0.015004</td>\n",
              "      <td>-0.011014</td>\n",
              "    </tr>\n",
              "    <tr>\n",
              "      <th>Mortgage</th>\n",
              "      <td>-0.012539</td>\n",
              "      <td>0.206806</td>\n",
              "      <td>0.007383</td>\n",
              "      <td>-0.020445</td>\n",
              "      <td>0.109905</td>\n",
              "      <td>-0.033327</td>\n",
              "      <td>1.000000</td>\n",
              "      <td>0.142095</td>\n",
              "      <td>-0.005411</td>\n",
              "      <td>0.089311</td>\n",
              "      <td>-0.005995</td>\n",
              "      <td>-0.007231</td>\n",
              "    </tr>\n",
              "    <tr>\n",
              "      <th>Personal Loan</th>\n",
              "      <td>-0.007726</td>\n",
              "      <td>0.502462</td>\n",
              "      <td>0.000107</td>\n",
              "      <td>0.061367</td>\n",
              "      <td>0.366889</td>\n",
              "      <td>0.136722</td>\n",
              "      <td>0.142095</td>\n",
              "      <td>1.000000</td>\n",
              "      <td>0.021954</td>\n",
              "      <td>0.316355</td>\n",
              "      <td>0.006278</td>\n",
              "      <td>0.002802</td>\n",
              "    </tr>\n",
              "    <tr>\n",
              "      <th>Securities Account</th>\n",
              "      <td>-0.000436</td>\n",
              "      <td>-0.002616</td>\n",
              "      <td>0.004704</td>\n",
              "      <td>0.019994</td>\n",
              "      <td>0.015086</td>\n",
              "      <td>-0.010812</td>\n",
              "      <td>-0.005411</td>\n",
              "      <td>0.021954</td>\n",
              "      <td>1.000000</td>\n",
              "      <td>0.317034</td>\n",
              "      <td>0.012627</td>\n",
              "      <td>-0.015028</td>\n",
              "    </tr>\n",
              "    <tr>\n",
              "      <th>CD Account</th>\n",
              "      <td>0.008043</td>\n",
              "      <td>0.169738</td>\n",
              "      <td>0.019972</td>\n",
              "      <td>0.014110</td>\n",
              "      <td>0.136534</td>\n",
              "      <td>0.013934</td>\n",
              "      <td>0.089311</td>\n",
              "      <td>0.316355</td>\n",
              "      <td>0.317034</td>\n",
              "      <td>1.000000</td>\n",
              "      <td>0.175880</td>\n",
              "      <td>0.278644</td>\n",
              "    </tr>\n",
              "    <tr>\n",
              "      <th>Online</th>\n",
              "      <td>0.013702</td>\n",
              "      <td>0.014206</td>\n",
              "      <td>0.016990</td>\n",
              "      <td>0.010354</td>\n",
              "      <td>-0.003611</td>\n",
              "      <td>-0.015004</td>\n",
              "      <td>-0.005995</td>\n",
              "      <td>0.006278</td>\n",
              "      <td>0.012627</td>\n",
              "      <td>0.175880</td>\n",
              "      <td>1.000000</td>\n",
              "      <td>0.004210</td>\n",
              "    </tr>\n",
              "    <tr>\n",
              "      <th>CreditCard</th>\n",
              "      <td>0.007681</td>\n",
              "      <td>-0.002385</td>\n",
              "      <td>0.007691</td>\n",
              "      <td>0.011588</td>\n",
              "      <td>-0.006689</td>\n",
              "      <td>-0.011014</td>\n",
              "      <td>-0.007231</td>\n",
              "      <td>0.002802</td>\n",
              "      <td>-0.015028</td>\n",
              "      <td>0.278644</td>\n",
              "      <td>0.004210</td>\n",
              "      <td>1.000000</td>\n",
              "    </tr>\n",
              "  </tbody>\n",
              "</table>\n",
              "</div>"
            ],
            "text/plain": [
              "                         Age    Income  ...    Online  CreditCard\n",
              "Age                 1.000000 -0.055269  ...  0.013702    0.007681\n",
              "Income             -0.055269  1.000000  ...  0.014206   -0.002385\n",
              "ZIP Code           -0.029216 -0.016410  ...  0.016990    0.007691\n",
              "Family             -0.046418 -0.157501  ...  0.010354    0.011588\n",
              "CCAvg              -0.052012  0.645984  ... -0.003611   -0.006689\n",
              "Education           0.041334 -0.187524  ... -0.015004   -0.011014\n",
              "Mortgage           -0.012539  0.206806  ... -0.005995   -0.007231\n",
              "Personal Loan      -0.007726  0.502462  ...  0.006278    0.002802\n",
              "Securities Account -0.000436 -0.002616  ...  0.012627   -0.015028\n",
              "CD Account          0.008043  0.169738  ...  0.175880    0.278644\n",
              "Online              0.013702  0.014206  ...  1.000000    0.004210\n",
              "CreditCard          0.007681 -0.002385  ...  0.004210    1.000000\n",
              "\n",
              "[12 rows x 12 columns]"
            ]
          },
          "metadata": {
            "tags": []
          },
          "execution_count": 84
        }
      ]
    },
    {
      "cell_type": "code",
      "metadata": {
        "id": "N88uJvHCAhfU",
        "colab_type": "code",
        "colab": {
          "base_uri": "https://localhost:8080/",
          "height": 424
        },
        "outputId": "d37a45ff-436a-4aed-b82b-1ef6aff718fa"
      },
      "source": [
        "plt.figure(figsize=(10,5))\n",
        "c = df.corr()\n",
        "sns.heatmap(c,cmap = \"Blues\",annot = True)"
      ],
      "execution_count": 85,
      "outputs": [
        {
          "output_type": "execute_result",
          "data": {
            "text/plain": [
              "<matplotlib.axes._subplots.AxesSubplot at 0x7f98cff47908>"
            ]
          },
          "metadata": {
            "tags": []
          },
          "execution_count": 85
        },
        {
          "output_type": "display_data",
          "data": {
            "image/png": "[encoded data removed]",
            "text/plain": [
              "<Figure size 720x360 with 2 Axes>"
            ]
          },
          "metadata": {
            "tags": [],
            "needs_background": "light"
          }
        }
      ]
    },
    {
      "cell_type": "code",
      "metadata": {
        "id": "Y2uwuzcYB-IW",
        "colab_type": "code",
        "colab": {
          "base_uri": "https://localhost:8080/",
          "height": 336
        },
        "outputId": "6f8f243e-361d-4ee9-c803-46ddd4f1fa28"
      },
      "source": [
        "df.info()"
      ],
      "execution_count": 86,
      "outputs": [
        {
          "output_type": "stream",
          "text": [
            "<class 'pandas.core.frame.DataFrame'>\n",
            "RangeIndex: 5000 entries, 0 to 4999\n",
            "Data columns (total 12 columns):\n",
            " #   Column              Non-Null Count  Dtype  \n",
            "---  ------              --------------  -----  \n",
            " 0   Age                 5000 non-null   int64  \n",
            " 1   Income              5000 non-null   int64  \n",
            " 2   ZIP Code            5000 non-null   int64  \n",
            " 3   Family              5000 non-null   int64  \n",
            " 4   CCAvg               5000 non-null   float64\n",
            " 5   Education           5000 non-null   int64  \n",
            " 6   Mortgage            5000 non-null   int64  \n",
            " 7   Personal Loan       5000 non-null   int64  \n",
            " 8   Securities Account  5000 non-null   int64  \n",
            " 9   CD Account          5000 non-null   int64  \n",
            " 10  Online              5000 non-null   int64  \n",
            " 11  CreditCard          5000 non-null   int64  \n",
            "dtypes: float64(1), int64(11)\n",
            "memory usage: 468.9 KB\n"
          ],
          "name": "stdout"
        }
      ]
    },
    {
      "cell_type": "code",
      "metadata": {
        "id": "As9tfYgiCKg5",
        "colab_type": "code",
        "colab": {
          "base_uri": "https://localhost:8080/",
          "height": 312
        },
        "outputId": "4240b4d5-b9b4-4562-cc18-a985343efafb"
      },
      "source": [
        "sns.countplot(y='CreditCard', data = df , hue = 'Securities Account')\n",
        "plt.title('CreditCard vs Securities Account')\n",
        "plt.ylabel('CreditCard')\n",
        "plt.xlabel('Securities Account')"
      ],
      "execution_count": 87,
      "outputs": [
        {
          "output_type": "execute_result",
          "data": {
            "text/plain": [
              "Text(0.5, 0, 'Securities Account')"
            ]
          },
          "metadata": {
            "tags": []
          },
          "execution_count": 87
        },
        {
          "output_type": "display_data",
          "data": {
            "image/png": "[encoded data removed]",
            "text/plain": [
              "<Figure size 432x288 with 1 Axes>"
            ]
          },
          "metadata": {
            "tags": [],
            "needs_background": "light"
          }
        }
      ]
    },
    {
      "cell_type": "code",
      "metadata": {
        "id": "3a2TtFltDQKK",
        "colab_type": "code",
        "colab": {
          "base_uri": "https://localhost:8080/",
          "height": 312
        },
        "outputId": "94fdb647-f3a3-4fe2-c970-7ed4be1bc7cf"
      },
      "source": [
        "sns.countplot(y='Education', data = df , hue = 'Personal Loan')\n",
        "plt.title('Education vs Personal Loan')\n",
        "plt.ylabel('Education')\n",
        "plt.xlabel('Personal Loan')"
      ],
      "execution_count": 88,
      "outputs": [
        {
          "output_type": "execute_result",
          "data": {
            "text/plain": [
              "Text(0.5, 0, 'Personal Loan')"
            ]
          },
          "metadata": {
            "tags": []
          },
          "execution_count": 88
        },
        {
          "output_type": "display_data",
          "data": {
            "image/png": "[encoded data removed]",
            "text/plain": [
              "<Figure size 432x288 with 1 Axes>"
            ]
          },
          "metadata": {
            "tags": [],
            "needs_background": "light"
          }
        }
      ]
    },
    {
      "cell_type": "markdown",
      "metadata": {
        "id": "zF5e-orbEUxB",
        "colab_type": "text"
      },
      "source": [
        "**4. Applying necessary transformations for the feature variables**"
      ]
    },
    {
      "cell_type": "code",
      "metadata": {
        "id": "lJJNFoMdFZuL",
        "colab_type": "code",
        "colab": {}
      },
      "source": [
        "X=df[['Age','Income','CCAvg','Education','Mortgage','Securities Account','Online',\"CreditCard\"]].values\n",
        "y=df['Personal Loan'].values"
      ],
      "execution_count": 89,
      "outputs": []
    },
    {
      "cell_type": "code",
      "metadata": {
        "id": "rjLGfPCWGkB1",
        "colab_type": "code",
        "colab": {
          "base_uri": "https://localhost:8080/",
          "height": 134
        },
        "outputId": "e32c06fc-d7ee-43f8-e94f-55ff210788ff"
      },
      "source": [
        "X"
      ],
      "execution_count": 90,
      "outputs": [
        {
          "output_type": "execute_result",
          "data": {
            "text/plain": [
              "array([[25. , 49. ,  1.6, ...,  1. ,  0. ,  0. ],\n",
              "       [45. , 34. ,  1.5, ...,  1. ,  0. ,  0. ],\n",
              "       [39. , 11. ,  1. , ...,  0. ,  0. ,  0. ],\n",
              "       ...,\n",
              "       [63. , 24. ,  0.3, ...,  0. ,  0. ,  0. ],\n",
              "       [65. , 49. ,  0.5, ...,  0. ,  1. ,  0. ],\n",
              "       [28. , 83. ,  0.8, ...,  0. ,  1. ,  1. ]])"
            ]
          },
          "metadata": {
            "tags": []
          },
          "execution_count": 90
        }
      ]
    },
    {
      "cell_type": "code",
      "metadata": {
        "id": "_qL7CQE_Gma4",
        "colab_type": "code",
        "colab": {
          "base_uri": "https://localhost:8080/",
          "height": 34
        },
        "outputId": "a5da3faa-9d92-478b-a3f1-9b11f998e23b"
      },
      "source": [
        "y"
      ],
      "execution_count": 91,
      "outputs": [
        {
          "output_type": "execute_result",
          "data": {
            "text/plain": [
              "array([0, 0, 0, ..., 0, 0, 0])"
            ]
          },
          "metadata": {
            "tags": []
          },
          "execution_count": 91
        }
      ]
    },
    {
      "cell_type": "code",
      "metadata": {
        "id": "N-W591uqbbee",
        "colab_type": "code",
        "colab": {
          "base_uri": "https://localhost:8080/",
          "height": 34
        },
        "outputId": "d592abf4-ba55-4e47-bdf5-6caefd1888a5"
      },
      "source": [
        "X.shape"
      ],
      "execution_count": 94,
      "outputs": [
        {
          "output_type": "execute_result",
          "data": {
            "text/plain": [
              "(5000, 8)"
            ]
          },
          "metadata": {
            "tags": []
          },
          "execution_count": 94
        }
      ]
    },
    {
      "cell_type": "code",
      "metadata": {
        "id": "fgufUM6Kbe52",
        "colab_type": "code",
        "colab": {
          "base_uri": "https://localhost:8080/",
          "height": 34
        },
        "outputId": "27c3e170-6fa7-4cc6-d48f-6667100ca257"
      },
      "source": [
        "y.shape"
      ],
      "execution_count": 95,
      "outputs": [
        {
          "output_type": "execute_result",
          "data": {
            "text/plain": [
              "(5000,)"
            ]
          },
          "metadata": {
            "tags": []
          },
          "execution_count": 95
        }
      ]
    },
    {
      "cell_type": "code",
      "metadata": {
        "id": "bnicTjD-HTfG",
        "colab_type": "code",
        "colab": {}
      },
      "source": [
        "from sklearn.preprocessing import StandardScaler\n",
        "sc=StandardScaler()\n",
        "X=sc.fit_transform(X)\n",
        "#y=sc.fit_transform(y.reshape(-1,1))"
      ],
      "execution_count": 96,
      "outputs": []
    },
    {
      "cell_type": "code",
      "metadata": {
        "id": "Cdm95_XnINVB",
        "colab_type": "code",
        "colab": {
          "base_uri": "https://localhost:8080/",
          "height": 235
        },
        "outputId": "e69a20e5-9bd8-4bc5-e309-3aa6ac0d62cc"
      },
      "source": [
        "X"
      ],
      "execution_count": 97,
      "outputs": [
        {
          "output_type": "execute_result",
          "data": {
            "text/plain": [
              "array([[-1.77441684, -0.53822878, -0.19338544, ...,  2.92891517,\n",
              "        -1.21661774, -0.64531434],\n",
              "       [-0.02952359, -0.8641094 , -0.25061056, ...,  2.92891517,\n",
              "        -1.21661774, -0.64531434],\n",
              "       [-0.55299157, -1.36379301, -0.53673618, ..., -0.34142334,\n",
              "        -1.21661774, -0.64531434],\n",
              "       ...,\n",
              "       [ 1.54088033, -1.08136314, -0.93731205, ..., -0.34142334,\n",
              "        -1.21661774, -0.64531434],\n",
              "       [ 1.71536965, -0.53822878, -0.8228618 , ..., -0.34142334,\n",
              "         0.82195086, -0.64531434],\n",
              "       [-1.51268285,  0.20043396, -0.65118643, ..., -0.34142334,\n",
              "         0.82195086,  1.54963239]])"
            ]
          },
          "metadata": {
            "tags": []
          },
          "execution_count": 97
        }
      ]
    },
    {
      "cell_type": "code",
      "metadata": {
        "id": "U7rnXGwBIPQj",
        "colab_type": "code",
        "colab": {
          "base_uri": "https://localhost:8080/",
          "height": 34
        },
        "outputId": "d6841de1-e2b1-46dd-ec77-e895402f06d6"
      },
      "source": [
        "y"
      ],
      "execution_count": 98,
      "outputs": [
        {
          "output_type": "execute_result",
          "data": {
            "text/plain": [
              "array([0, 0, 0, ..., 0, 0, 0])"
            ]
          },
          "metadata": {
            "tags": []
          },
          "execution_count": 98
        }
      ]
    },
    {
      "cell_type": "markdown",
      "metadata": {
        "id": "1367bhABLaoL",
        "colab_type": "text"
      },
      "source": [
        "**5. Normalising the data and spliting the data into training and test set**"
      ]
    },
    {
      "cell_type": "markdown",
      "metadata": {
        "id": "lEqjPMZMMep-",
        "colab_type": "text"
      },
      "source": [
        "**5.1 Normalising the data** "
      ]
    },
    {
      "cell_type": "code",
      "metadata": {
        "id": "yT5Q8x9ZMpty",
        "colab_type": "code",
        "colab": {
          "base_uri": "https://localhost:8080/",
          "height": 235
        },
        "outputId": "6045647e-ec4a-4b20-c952-7e140659cb8f"
      },
      "source": [
        "from sklearn import preprocessing\n",
        "X=preprocessing.normalize(X)\n",
        "X"
      ],
      "execution_count": 99,
      "outputs": [
        {
          "output_type": "execute_result",
          "data": {
            "text/plain": [
              "array([[-0.45275242, -0.13733209, -0.04934338, ...,  0.74732915,\n",
              "        -0.31042685, -0.16465558],\n",
              "       [-0.00828626, -0.24252587, -0.07033779, ...,  0.82204603,\n",
              "        -0.34146287, -0.1811176 ],\n",
              "       [-0.22812463, -0.5626031 , -0.22141882, ..., -0.14084676,\n",
              "        -0.50188915, -0.26621037],\n",
              "       ...,\n",
              "       [ 0.52791266, -0.37047997, -0.3211274 , ..., -0.1169732 ,\n",
              "        -0.41681881, -0.22108765],\n",
              "       [ 0.73501462, -0.23062435, -0.35258607, ..., -0.14629567,\n",
              "         0.35219575, -0.27650919],\n",
              "       [-0.55776679,  0.07390538, -0.24010992, ..., -0.12589195,\n",
              "         0.30307535,  0.57139107]])"
            ]
          },
          "metadata": {
            "tags": []
          },
          "execution_count": 99
        }
      ]
    },
    {
      "cell_type": "markdown",
      "metadata": {
        "id": "tNVjkM7zNJmB",
        "colab_type": "text"
      },
      "source": [
        "**5.2 Splitting the data into train and test set**"
      ]
    },
    {
      "cell_type": "code",
      "metadata": {
        "id": "7W9rVhd0NQzg",
        "colab_type": "code",
        "colab": {}
      },
      "source": [
        "from sklearn.model_selection import train_test_split\n",
        "X_train , X_test , y_train , y_test = train_test_split(X,y,test_size=0.3 , random_state=0)"
      ],
      "execution_count": 100,
      "outputs": []
    },
    {
      "cell_type": "code",
      "metadata": {
        "id": "M2-NsuChNzCI",
        "colab_type": "code",
        "colab": {
          "base_uri": "https://localhost:8080/",
          "height": 235
        },
        "outputId": "676e72cf-3303-4b79-bf48-eb1569019d1c"
      },
      "source": [
        "X_train"
      ],
      "execution_count": 101,
      "outputs": [
        {
          "output_type": "execute_result",
          "data": {
            "text/plain": [
              "array([[-0.18273183,  0.41040748,  0.75238478, ..., -0.0765766 ,\n",
              "         0.18435236,  0.3475614 ],\n",
              "       [ 0.61750792,  0.31769885,  0.31487539, ..., -0.17688675,\n",
              "         0.42584148, -0.33432851],\n",
              "       [ 0.49414667, -0.29907662, -0.08650719, ..., -0.15272904,\n",
              "         0.36768361, -0.28866872],\n",
              "       ...,\n",
              "       [-0.51894968, -0.33261161, -0.18269388, ..., -0.10501687,\n",
              "        -0.37421396,  0.47664444],\n",
              "       [ 0.25015183, -0.13233465, -0.06161778, ...,  0.72013425,\n",
              "         0.20209358,  0.38100911],\n",
              "       [-0.4349237 , -0.31401657,  0.03746997, ..., -0.13794583,\n",
              "        -0.49155205, -0.2607274 ]])"
            ]
          },
          "metadata": {
            "tags": []
          },
          "execution_count": 101
        }
      ]
    },
    {
      "cell_type": "code",
      "metadata": {
        "id": "fkPuXJjZN1px",
        "colab_type": "code",
        "colab": {
          "base_uri": "https://localhost:8080/",
          "height": 34
        },
        "outputId": "77d25a42-5364-4ebc-8ad0-c372b0d78a5a"
      },
      "source": [
        "y_train"
      ],
      "execution_count": 102,
      "outputs": [
        {
          "output_type": "execute_result",
          "data": {
            "text/plain": [
              "array([0, 1, 0, ..., 0, 0, 0])"
            ]
          },
          "metadata": {
            "tags": []
          },
          "execution_count": 102
        }
      ]
    },
    {
      "cell_type": "code",
      "metadata": {
        "id": "V53SbMHrN7vb",
        "colab_type": "code",
        "colab": {
          "base_uri": "https://localhost:8080/",
          "height": 34
        },
        "outputId": "b35eb637-3169-49e7-91bd-2f226d00a205"
      },
      "source": [
        "X_train.shape , X_test.shape , y_train.shape , y_test.shape"
      ],
      "execution_count": 103,
      "outputs": [
        {
          "output_type": "execute_result",
          "data": {
            "text/plain": [
              "((3500, 8), (1500, 8), (3500,), (1500,))"
            ]
          },
          "metadata": {
            "tags": []
          },
          "execution_count": 103
        }
      ]
    },
    {
      "cell_type": "markdown",
      "metadata": {
        "id": "T_VTTzYZOhVf",
        "colab_type": "text"
      },
      "source": [
        "**6. Using Logistic Regression model to predict the likelihood of a customer buying\n",
        "personal loans.**"
      ]
    },
    {
      "cell_type": "code",
      "metadata": {
        "id": "WYCOHBktO1y5",
        "colab_type": "code",
        "colab": {
          "base_uri": "https://localhost:8080/",
          "height": 101
        },
        "outputId": "f5362f2d-76f8-498d-e437-23d053115792"
      },
      "source": [
        "from sklearn.linear_model import LogisticRegression\n",
        "model=LogisticRegression()\n",
        "model.fit(X_train,y_train)"
      ],
      "execution_count": 104,
      "outputs": [
        {
          "output_type": "execute_result",
          "data": {
            "text/plain": [
              "LogisticRegression(C=1.0, class_weight=None, dual=False, fit_intercept=True,\n",
              "                   intercept_scaling=1, l1_ratio=None, max_iter=100,\n",
              "                   multi_class='auto', n_jobs=None, penalty='l2',\n",
              "                   random_state=None, solver='lbfgs', tol=0.0001, verbose=0,\n",
              "                   warm_start=False)"
            ]
          },
          "metadata": {
            "tags": []
          },
          "execution_count": 104
        }
      ]
    },
    {
      "cell_type": "code",
      "metadata": {
        "id": "BEB1R4ihWy-e",
        "colab_type": "code",
        "colab": {
          "base_uri": "https://localhost:8080/",
          "height": 34
        },
        "outputId": "f3948067-886b-477e-aba6-b7138bf3ec43"
      },
      "source": [
        "y_predict=model.predict(X_test)\n",
        "print(y_predict)"
      ],
      "execution_count": 105,
      "outputs": [
        {
          "output_type": "stream",
          "text": [
            "[0 0 0 ... 0 0 0]\n"
          ],
          "name": "stdout"
        }
      ]
    },
    {
      "cell_type": "code",
      "metadata": {
        "id": "IpWhK8AoXaw2",
        "colab_type": "code",
        "colab": {
          "base_uri": "https://localhost:8080/",
          "height": 282
        },
        "outputId": "7f0eba0d-2e07-47ea-e6e7-b5840c68a5f4"
      },
      "source": [
        "sns.distplot((y_test - y_predict),bins = 50)"
      ],
      "execution_count": 106,
      "outputs": [
        {
          "output_type": "execute_result",
          "data": {
            "text/plain": [
              "<matplotlib.axes._subplots.AxesSubplot at 0x7f98cce91a20>"
            ]
          },
          "metadata": {
            "tags": []
          },
          "execution_count": 106
        },
        {
          "output_type": "display_data",
          "data": {
            "image/png": "[encoded data removed]",
            "text/plain": [
              "<Figure size 432x288 with 1 Axes>"
            ]
          },
          "metadata": {
            "tags": [],
            "needs_background": "light"
          }
        }
      ]
    },
    {
      "cell_type": "markdown",
      "metadata": {
        "id": "OkepukmlX2Va",
        "colab_type": "text"
      },
      "source": [
        "**7.Metrics related for evaluating the model performance**"
      ]
    },
    {
      "cell_type": "code",
      "metadata": {
        "id": "hgXQyqymX-Gj",
        "colab_type": "code",
        "colab": {
          "base_uri": "https://localhost:8080/",
          "height": 50
        },
        "outputId": "53cd17b5-23e4-469c-cd0f-ef4f574fa2e0"
      },
      "source": [
        "from sklearn import metrics\n",
        "print('Mean Absolute Error: ', metrics.mean_absolute_error(y_test,y_predict))\n",
        "print('Root Mean Squared Error', np.sqrt(metrics.mean_squared_error(y_test,y_predict)))"
      ],
      "execution_count": 107,
      "outputs": [
        {
          "output_type": "stream",
          "text": [
            "Mean Absolute Error:  0.048\n",
            "Root Mean Squared Error 0.21908902300206645\n"
          ],
          "name": "stdout"
        }
      ]
    },
    {
      "cell_type": "code",
      "metadata": {
        "id": "AWJOOQm3Yz65",
        "colab_type": "code",
        "colab": {
          "base_uri": "https://localhost:8080/",
          "height": 34
        },
        "outputId": "b10cba66-064f-4149-b7df-864d4b5f561a"
      },
      "source": [
        "accuracy = metrics.accuracy_score(y_test,y_predict)\n",
        "print('Accuracy: ',accuracy)"
      ],
      "execution_count": 108,
      "outputs": [
        {
          "output_type": "stream",
          "text": [
            "Accuracy:  0.952\n"
          ],
          "name": "stdout"
        }
      ]
    },
    {
      "cell_type": "code",
      "metadata": {
        "id": "u2FDruhPZOkS",
        "colab_type": "code",
        "colab": {
          "base_uri": "https://localhost:8080/",
          "height": 202
        },
        "outputId": "98593c69-07dc-4fa2-d06f-c5f68cfc92fd"
      },
      "source": [
        "from sklearn.metrics import classification_report\n",
        "print(\"Classification Report:\\n\")\n",
        "print(classification_report(y_test,y_predict))"
      ],
      "execution_count": 109,
      "outputs": [
        {
          "output_type": "stream",
          "text": [
            "Classification Report:\n",
            "\n",
            "              precision    recall  f1-score   support\n",
            "\n",
            "           0       0.96      0.99      0.97      1372\n",
            "           1       0.81      0.57      0.67       128\n",
            "\n",
            "    accuracy                           0.95      1500\n",
            "   macro avg       0.89      0.78      0.82      1500\n",
            "weighted avg       0.95      0.95      0.95      1500\n",
            "\n"
          ],
          "name": "stdout"
        }
      ]
    },
    {
      "cell_type": "code",
      "metadata": {
        "id": "kSsP0xuM7PEM",
        "colab_type": "code",
        "colab": {
          "base_uri": "https://localhost:8080/",
          "height": 84
        },
        "outputId": "9c6a00cf-469d-4dac-a824-3494215c798a"
      },
      "source": [
        "from sklearn.metrics import confusion_matrix\n",
        "print(\"Confusion Matrix:\\n\")\n",
        "print(confusion_matrix(y_test,y_predict))"
      ],
      "execution_count": 110,
      "outputs": [
        {
          "output_type": "stream",
          "text": [
            "Confusion Matrix:\n",
            "\n",
            "[[1355   17]\n",
            " [  55   73]]\n"
          ],
          "name": "stdout"
        }
      ]
    },
    {
      "cell_type": "markdown",
      "metadata": {
        "id": "b_EYv2k58g6a",
        "colab_type": "text"
      },
      "source": [
        "**8.Comparison with other classification algorithm**\n",
        "\n"
      ]
    },
    {
      "cell_type": "markdown",
      "metadata": {
        "id": "MOt4bEVq9Sut",
        "colab_type": "text"
      },
      "source": [
        "**8.1 Support Vector Machine**"
      ]
    },
    {
      "cell_type": "code",
      "metadata": {
        "id": "tb_FcVmF9X9H",
        "colab_type": "code",
        "colab": {
          "base_uri": "https://localhost:8080/",
          "height": 84
        },
        "outputId": "3c2ef0f6-983d-4917-9d78-0a5fcbc7ff3c"
      },
      "source": [
        "from sklearn.svm import SVC\n",
        "SVM=SVC(kernel=\"linear\")\n",
        "SVM.fit(X_train,y_train)"
      ],
      "execution_count": 111,
      "outputs": [
        {
          "output_type": "execute_result",
          "data": {
            "text/plain": [
              "SVC(C=1.0, break_ties=False, cache_size=200, class_weight=None, coef0=0.0,\n",
              "    decision_function_shape='ovr', degree=3, gamma='scale', kernel='linear',\n",
              "    max_iter=-1, probability=False, random_state=None, shrinking=True,\n",
              "    tol=0.001, verbose=False)"
            ]
          },
          "metadata": {
            "tags": []
          },
          "execution_count": 111
        }
      ]
    },
    {
      "cell_type": "code",
      "metadata": {
        "id": "XobtX8nr989Q",
        "colab_type": "code",
        "colab": {
          "base_uri": "https://localhost:8080/",
          "height": 34
        },
        "outputId": "e5e44d93-4ced-4ac3-c9f9-248e9197c459"
      },
      "source": [
        "y_predict_SVM=SVM.predict(X_test)\n",
        "print(y_predict_SVM)"
      ],
      "execution_count": 112,
      "outputs": [
        {
          "output_type": "stream",
          "text": [
            "[0 0 0 ... 0 0 0]\n"
          ],
          "name": "stdout"
        }
      ]
    },
    {
      "cell_type": "code",
      "metadata": {
        "id": "a766Jeh9C0Oa",
        "colab_type": "code",
        "colab": {
          "base_uri": "https://localhost:8080/",
          "height": 282
        },
        "outputId": "ac89edeb-c2f6-460d-c703-8c1325647c94"
      },
      "source": [
        "sns.distplot((y_test - y_predict_SVM),bins = 50)"
      ],
      "execution_count": 113,
      "outputs": [
        {
          "output_type": "execute_result",
          "data": {
            "text/plain": [
              "<matplotlib.axes._subplots.AxesSubplot at 0x7f98ccd4a1d0>"
            ]
          },
          "metadata": {
            "tags": []
          },
          "execution_count": 113
        },
        {
          "output_type": "display_data",
          "data": {
            "image/png": "[encoded data removed]",
            "text/plain": [
              "<Figure size 432x288 with 1 Axes>"
            ]
          },
          "metadata": {
            "tags": [],
            "needs_background": "light"
          }
        }
      ]
    },
    {
      "cell_type": "code",
      "metadata": {
        "id": "aQs1WPib-X0H",
        "colab_type": "code",
        "colab": {
          "base_uri": "https://localhost:8080/",
          "height": 50
        },
        "outputId": "9b6f5b66-de84-41a3-f69a-5f3145db9730"
      },
      "source": [
        "print('Mean Absolute Error: ', metrics.mean_absolute_error(y_test,y_predict_SVM))\n",
        "print('Root Mean Squared Error', np.sqrt(metrics.mean_squared_error(y_test,y_predict_SVM)))"
      ],
      "execution_count": 114,
      "outputs": [
        {
          "output_type": "stream",
          "text": [
            "Mean Absolute Error:  0.042\n",
            "Root Mean Squared Error 0.20493901531919198\n"
          ],
          "name": "stdout"
        }
      ]
    },
    {
      "cell_type": "code",
      "metadata": {
        "id": "_ziAasE2-hE4",
        "colab_type": "code",
        "colab": {
          "base_uri": "https://localhost:8080/",
          "height": 34
        },
        "outputId": "25a47b7d-ca9d-4bb9-df95-dbd6840e0c6b"
      },
      "source": [
        "accuracy = metrics.accuracy_score(y_test,y_predict_SVM)\n",
        "print('Accuracy: ',accuracy)"
      ],
      "execution_count": 115,
      "outputs": [
        {
          "output_type": "stream",
          "text": [
            "Accuracy:  0.958\n"
          ],
          "name": "stdout"
        }
      ]
    },
    {
      "cell_type": "code",
      "metadata": {
        "id": "0Z4JwYwh-uIe",
        "colab_type": "code",
        "colab": {
          "base_uri": "https://localhost:8080/",
          "height": 202
        },
        "outputId": "82419f88-6513-439b-abe0-9fbd87d10774"
      },
      "source": [
        "print(\"Classification Report:\\n\")\n",
        "print(classification_report(y_test,y_predict_SVM))"
      ],
      "execution_count": 116,
      "outputs": [
        {
          "output_type": "stream",
          "text": [
            "Classification Report:\n",
            "\n",
            "              precision    recall  f1-score   support\n",
            "\n",
            "           0       0.96      0.99      0.98      1372\n",
            "           1       0.91      0.56      0.70       128\n",
            "\n",
            "    accuracy                           0.96      1500\n",
            "   macro avg       0.94      0.78      0.84      1500\n",
            "weighted avg       0.96      0.96      0.95      1500\n",
            "\n"
          ],
          "name": "stdout"
        }
      ]
    },
    {
      "cell_type": "code",
      "metadata": {
        "id": "S3a8OV43-3BY",
        "colab_type": "code",
        "colab": {
          "base_uri": "https://localhost:8080/",
          "height": 84
        },
        "outputId": "e015dcea-c6eb-452b-b84a-49e4576c5b41"
      },
      "source": [
        "print(\"Confusion Matrix:\\n\")\n",
        "print(confusion_matrix(y_test,y_predict_SVM))"
      ],
      "execution_count": 117,
      "outputs": [
        {
          "output_type": "stream",
          "text": [
            "Confusion Matrix:\n",
            "\n",
            "[[1365    7]\n",
            " [  56   72]]\n"
          ],
          "name": "stdout"
        }
      ]
    },
    {
      "cell_type": "markdown",
      "metadata": {
        "id": "1Fe0Aex9_IcH",
        "colab_type": "text"
      },
      "source": [
        "**8.2 K-Neighbors classifier**"
      ]
    },
    {
      "cell_type": "code",
      "metadata": {
        "id": "YjcgpGqV_P4V",
        "colab_type": "code",
        "colab": {
          "base_uri": "https://localhost:8080/",
          "height": 67
        },
        "outputId": "8810977e-fac9-46a2-d76b-5ec5d7cc2885"
      },
      "source": [
        "from sklearn.neighbors import KNeighborsClassifier\n",
        "knn=KNeighborsClassifier(n_neighbors=7)\n",
        "knn.fit(X_train,y_train)"
      ],
      "execution_count": 118,
      "outputs": [
        {
          "output_type": "execute_result",
          "data": {
            "text/plain": [
              "KNeighborsClassifier(algorithm='auto', leaf_size=30, metric='minkowski',\n",
              "                     metric_params=None, n_jobs=None, n_neighbors=7, p=2,\n",
              "                     weights='uniform')"
            ]
          },
          "metadata": {
            "tags": []
          },
          "execution_count": 118
        }
      ]
    },
    {
      "cell_type": "code",
      "metadata": {
        "id": "VzbzzC34AKw8",
        "colab_type": "code",
        "colab": {
          "base_uri": "https://localhost:8080/",
          "height": 34
        },
        "outputId": "d3665349-54c0-4b67-88f8-33a708151d49"
      },
      "source": [
        "y_predict_knn=knn.predict(X_test)\n",
        "print(y_predict_knn)"
      ],
      "execution_count": 119,
      "outputs": [
        {
          "output_type": "stream",
          "text": [
            "[0 0 0 ... 0 0 0]\n"
          ],
          "name": "stdout"
        }
      ]
    },
    {
      "cell_type": "code",
      "metadata": {
        "id": "HmW8d6lhC4nm",
        "colab_type": "code",
        "colab": {
          "base_uri": "https://localhost:8080/",
          "height": 282
        },
        "outputId": "1087ab4a-1fac-4f75-d7c8-0bb16bcd000a"
      },
      "source": [
        "sns.distplot((y_test - y_predict_knn),bins = 50)"
      ],
      "execution_count": 120,
      "outputs": [
        {
          "output_type": "execute_result",
          "data": {
            "text/plain": [
              "<matplotlib.axes._subplots.AxesSubplot at 0x7f98ccd0d4a8>"
            ]
          },
          "metadata": {
            "tags": []
          },
          "execution_count": 120
        },
        {
          "output_type": "display_data",
          "data": {
            "image/png": "[encoded data removed]",
            "text/plain": [
              "<Figure size 432x288 with 1 Axes>"
            ]
          },
          "metadata": {
            "tags": [],
            "needs_background": "light"
          }
        }
      ]
    },
    {
      "cell_type": "code",
      "metadata": {
        "id": "yiJoJaT5AXRq",
        "colab_type": "code",
        "colab": {
          "base_uri": "https://localhost:8080/",
          "height": 50
        },
        "outputId": "59ec2b0a-0112-4391-c657-3b05df5e3ab8"
      },
      "source": [
        "print('Mean Absolute Error: ', metrics.mean_absolute_error(y_test,y_predict_knn))\n",
        "print('Root Mean Squared Error', np.sqrt(metrics.mean_squared_error(y_test,y_predict_knn)))"
      ],
      "execution_count": 121,
      "outputs": [
        {
          "output_type": "stream",
          "text": [
            "Mean Absolute Error:  0.042666666666666665\n",
            "Root Mean Squared Error 0.2065591117977289\n"
          ],
          "name": "stdout"
        }
      ]
    },
    {
      "cell_type": "code",
      "metadata": {
        "id": "YawhFI8GA5k1",
        "colab_type": "code",
        "colab": {
          "base_uri": "https://localhost:8080/",
          "height": 34
        },
        "outputId": "af30d067-dd56-40d2-f414-e158f2519635"
      },
      "source": [
        "accuracy = metrics.accuracy_score(y_test,y_predict_knn)\n",
        "print('Accuracy: ',accuracy)"
      ],
      "execution_count": 122,
      "outputs": [
        {
          "output_type": "stream",
          "text": [
            "Accuracy:  0.9573333333333334\n"
          ],
          "name": "stdout"
        }
      ]
    },
    {
      "cell_type": "code",
      "metadata": {
        "id": "XkPYBehuBHo_",
        "colab_type": "code",
        "colab": {
          "base_uri": "https://localhost:8080/",
          "height": 202
        },
        "outputId": "87c72ec5-b40d-4ba8-d9a2-2ac64f452e68"
      },
      "source": [
        "print(\"Classification Report:\\n\")\n",
        "print(classification_report(y_test,y_predict_knn))"
      ],
      "execution_count": 123,
      "outputs": [
        {
          "output_type": "stream",
          "text": [
            "Classification Report:\n",
            "\n",
            "              precision    recall  f1-score   support\n",
            "\n",
            "           0       0.96      0.99      0.98      1372\n",
            "           1       0.86      0.59      0.70       128\n",
            "\n",
            "    accuracy                           0.96      1500\n",
            "   macro avg       0.91      0.79      0.84      1500\n",
            "weighted avg       0.95      0.96      0.95      1500\n",
            "\n"
          ],
          "name": "stdout"
        }
      ]
    },
    {
      "cell_type": "code",
      "metadata": {
        "id": "300TULw4BbWd",
        "colab_type": "code",
        "colab": {
          "base_uri": "https://localhost:8080/",
          "height": 84
        },
        "outputId": "675612f0-ba2f-47fd-c8b7-d69867f77db0"
      },
      "source": [
        "print(\"Confusion Matrix:\\n\")\n",
        "print(confusion_matrix(y_test,y_predict_knn))"
      ],
      "execution_count": 124,
      "outputs": [
        {
          "output_type": "stream",
          "text": [
            "Confusion Matrix:\n",
            "\n",
            "[[1360   12]\n",
            " [  52   76]]\n"
          ],
          "name": "stdout"
        }
      ]
    },
    {
      "cell_type": "markdown",
      "metadata": {
        "id": "VvNGOErXC_DV",
        "colab_type": "text"
      },
      "source": [
        "**8.3 Naive-Bayes Classifier**"
      ]
    },
    {
      "cell_type": "code",
      "metadata": {
        "id": "nA527OY6Db7k",
        "colab_type": "code",
        "colab": {
          "base_uri": "https://localhost:8080/",
          "height": 34
        },
        "outputId": "c2950c74-975e-43fd-91ab-1899ba7d5db2"
      },
      "source": [
        "from sklearn.naive_bayes import GaussianNB\n",
        "NB=GaussianNB()\n",
        "NB.fit(X_train,y_train)"
      ],
      "execution_count": 125,
      "outputs": [
        {
          "output_type": "execute_result",
          "data": {
            "text/plain": [
              "GaussianNB(priors=None, var_smoothing=1e-09)"
            ]
          },
          "metadata": {
            "tags": []
          },
          "execution_count": 125
        }
      ]
    },
    {
      "cell_type": "code",
      "metadata": {
        "id": "rn6hyZQ7DrjC",
        "colab_type": "code",
        "colab": {
          "base_uri": "https://localhost:8080/",
          "height": 34
        },
        "outputId": "9edcf612-8aee-40a0-fb9d-fa30aad206c0"
      },
      "source": [
        "y_predict_nb = NB.predict(X_test)\n",
        "print(y_predict_nb)"
      ],
      "execution_count": 126,
      "outputs": [
        {
          "output_type": "stream",
          "text": [
            "[0 0 0 ... 0 0 0]\n"
          ],
          "name": "stdout"
        }
      ]
    },
    {
      "cell_type": "code",
      "metadata": {
        "id": "v6_rfp-jD1hO",
        "colab_type": "code",
        "colab": {
          "base_uri": "https://localhost:8080/",
          "height": 282
        },
        "outputId": "e3542408-4c8d-47d5-e084-bf10a3de2f4f"
      },
      "source": [
        "sns.distplot((y_test - y_predict_nb),bins = 50)"
      ],
      "execution_count": 127,
      "outputs": [
        {
          "output_type": "execute_result",
          "data": {
            "text/plain": [
              "<matplotlib.axes._subplots.AxesSubplot at 0x7f98ccba88d0>"
            ]
          },
          "metadata": {
            "tags": []
          },
          "execution_count": 127
        },
        {
          "output_type": "display_data",
          "data": {
            "image/png": "[encoded data removed]",
            "text/plain": [
              "<Figure size 432x288 with 1 Axes>"
            ]
          },
          "metadata": {
            "tags": [],
            "needs_background": "light"
          }
        }
      ]
    },
    {
      "cell_type": "code",
      "metadata": {
        "id": "lofJwzuoD6YA",
        "colab_type": "code",
        "colab": {
          "base_uri": "https://localhost:8080/",
          "height": 50
        },
        "outputId": "a871fa20-85a4-485c-9043-efdd9c2325c9"
      },
      "source": [
        "print('Mean Absolute Error: ', metrics.mean_absolute_error(y_test,y_predict_nb))\n",
        "print('Root Mean Squared Error', np.sqrt(metrics.mean_squared_error(y_test,y_predict_nb)))"
      ],
      "execution_count": 128,
      "outputs": [
        {
          "output_type": "stream",
          "text": [
            "Mean Absolute Error:  0.094\n",
            "Root Mean Squared Error 0.3065941943351178\n"
          ],
          "name": "stdout"
        }
      ]
    },
    {
      "cell_type": "code",
      "metadata": {
        "id": "tgwwKmMlECPz",
        "colab_type": "code",
        "colab": {
          "base_uri": "https://localhost:8080/",
          "height": 34
        },
        "outputId": "d0f881ab-fb61-41fc-98de-1de136810e72"
      },
      "source": [
        "accuracy = metrics.accuracy_score(y_test,y_predict_nb)\n",
        "print('Accuracy: ',accuracy)"
      ],
      "execution_count": 129,
      "outputs": [
        {
          "output_type": "stream",
          "text": [
            "Accuracy:  0.906\n"
          ],
          "name": "stdout"
        }
      ]
    },
    {
      "cell_type": "code",
      "metadata": {
        "id": "dVGdGHcnEMwv",
        "colab_type": "code",
        "colab": {
          "base_uri": "https://localhost:8080/",
          "height": 202
        },
        "outputId": "f68fcb52-09f9-4f9b-99d9-e5c286bdebc5"
      },
      "source": [
        "print(\"Classification Report:\\n\")\n",
        "print(classification_report(y_test,y_predict_nb))"
      ],
      "execution_count": 130,
      "outputs": [
        {
          "output_type": "stream",
          "text": [
            "Classification Report:\n",
            "\n",
            "              precision    recall  f1-score   support\n",
            "\n",
            "           0       0.96      0.93      0.95      1372\n",
            "           1       0.46      0.63      0.53       128\n",
            "\n",
            "    accuracy                           0.91      1500\n",
            "   macro avg       0.71      0.78      0.74      1500\n",
            "weighted avg       0.92      0.91      0.91      1500\n",
            "\n"
          ],
          "name": "stdout"
        }
      ]
    },
    {
      "cell_type": "code",
      "metadata": {
        "id": "T8G-u6lkETkh",
        "colab_type": "code",
        "colab": {
          "base_uri": "https://localhost:8080/",
          "height": 84
        },
        "outputId": "3de8b3c1-8e2b-4608-cdd4-df658c76e41e"
      },
      "source": [
        "print(\"Confusion Matrix:\\n\")\n",
        "print(confusion_matrix(y_test,y_predict_nb))"
      ],
      "execution_count": 131,
      "outputs": [
        {
          "output_type": "stream",
          "text": [
            "Confusion Matrix:\n",
            "\n",
            "[[1278   94]\n",
            " [  47   81]]\n"
          ],
          "name": "stdout"
        }
      ]
    },
    {
      "cell_type": "markdown",
      "metadata": {
        "id": "FN-MDyMtEgqP",
        "colab_type": "text"
      },
      "source": [
        "After Comparing the above results on this dataset, I have concluded that Support Vector Machine gave the highest accuracy follwed by K-Neighbors Classifier with Logistic Regression being the third lead and Naive-Bayes having the minimum accuracy."
      ]
    },
    {
      "cell_type": "markdown",
      "metadata": {
        "id": "E3EJLKlsLs_U",
        "colab_type": "text"
      },
      "source": [
        "**9.Business understanding of the model**"
      ]
    },
    {
      "cell_type": "markdown",
      "metadata": {
        "id": "LDWKiT84L5Qx",
        "colab_type": "text"
      },
      "source": [
        "Bank Service is an essential worldwide service. Considering this fact ,I have decided to build a Machine Learning Classification Model to support this service by helping it to predict the likelihood of a liability customer buying personal loans. \n",
        "\n",
        "The model has been built considering the fact that identification of potential customers who have a higher probability of purchasing Personal Loans will not only help in the growth of the Bank's profit but also will help decrease the cost of organinsing manual campaigns to spot out the same.\n",
        "\n",
        "The Dataset contains some basic information about the Banks's customers including the parituclars about the fact that they have bought Personal Loans or not. The Dataset with some pre-processing is used to train and test our model to make it suitable for achieving our goal.\n",
        "\n",
        "Our model aims at providing the maximum accuracy and help in boosting the Bank's overall income from its customers by leading the Bank to approach its customers who are more likely to buy Personal Loans.\n"
      ]
    }
  ]
}